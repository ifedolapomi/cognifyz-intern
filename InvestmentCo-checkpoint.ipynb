{
 "cells": [
  {
   "cell_type": "markdown",
   "id": "88dd2bb4-44df-4193-9fd2-e828797ada2a",
   "metadata": {},
   "source": [
    "# Task 1"
   ]
  },
  {
   "cell_type": "markdown",
   "id": "dd9447d6-8ae8-4d83-8a73-22cb545da7fa",
   "metadata": {},
   "source": [
    "Import Necessary Libraries\n"
   ]
  },
  {
   "cell_type": "code",
   "execution_count": 35,
   "id": "98772950-af91-4d9a-b1e1-3002f0290373",
   "metadata": {},
   "outputs": [],
   "source": [
    "import pandas as pd\n",
    "import numpy as np\n",
    "import matplotlib.pyplot as plt"
   ]
  },
  {
   "cell_type": "markdown",
   "id": "e4303e09-4d9b-4f0a-b198-c63a20299fb6",
   "metadata": {},
   "source": [
    "Import the data"
   ]
  },
  {
   "cell_type": "code",
   "execution_count": 21,
   "id": "a0d48ef0-9cf7-4161-9cd2-e644b1dce191",
   "metadata": {},
   "outputs": [],
   "source": [
    "data=pd.read_csv(r\"C:\\Users\\hp\\Desktop\\portofio file\\stem practics\\cognifyz intern/dataset.csv\")"
   ]
  },
  {
   "cell_type": "code",
   "execution_count": 22,
   "id": "16f3c185-607d-4f27-a1b4-8392133aa9e6",
   "metadata": {},
   "outputs": [
    {
     "data": {
      "text/html": [
       "<div>\n",
       "<style scoped>\n",
       "    .dataframe tbody tr th:only-of-type {\n",
       "        vertical-align: middle;\n",
       "    }\n",
       "\n",
       "    .dataframe tbody tr th {\n",
       "        vertical-align: top;\n",
       "    }\n",
       "\n",
       "    .dataframe thead th {\n",
       "        text-align: right;\n",
       "    }\n",
       "</style>\n",
       "<table border=\"1\" class=\"dataframe\">\n",
       "  <thead>\n",
       "    <tr style=\"text-align: right;\">\n",
       "      <th></th>\n",
       "      <th>gender</th>\n",
       "      <th>age</th>\n",
       "      <th>Investment_Avenues</th>\n",
       "      <th>Mutual_Funds</th>\n",
       "      <th>Equity_Market</th>\n",
       "      <th>Debentures</th>\n",
       "      <th>Government_Bonds</th>\n",
       "      <th>Fixed_Deposits</th>\n",
       "      <th>PPF</th>\n",
       "      <th>Gold</th>\n",
       "      <th>...</th>\n",
       "      <th>Duration</th>\n",
       "      <th>Invest_Monitor</th>\n",
       "      <th>Expect</th>\n",
       "      <th>Avenue</th>\n",
       "      <th>What are your savings objectives?</th>\n",
       "      <th>Reason_Equity</th>\n",
       "      <th>Reason_Mutual</th>\n",
       "      <th>Reason_Bonds</th>\n",
       "      <th>Reason_FD</th>\n",
       "      <th>Source</th>\n",
       "    </tr>\n",
       "  </thead>\n",
       "  <tbody>\n",
       "    <tr>\n",
       "      <th>0</th>\n",
       "      <td>Female</td>\n",
       "      <td>34</td>\n",
       "      <td>Yes</td>\n",
       "      <td>1</td>\n",
       "      <td>2</td>\n",
       "      <td>5</td>\n",
       "      <td>3</td>\n",
       "      <td>7</td>\n",
       "      <td>6</td>\n",
       "      <td>4</td>\n",
       "      <td>...</td>\n",
       "      <td>1-3 years</td>\n",
       "      <td>Monthly</td>\n",
       "      <td>20%-30%</td>\n",
       "      <td>Mutual Fund</td>\n",
       "      <td>Retirement Plan</td>\n",
       "      <td>Capital Appreciation</td>\n",
       "      <td>Better Returns</td>\n",
       "      <td>Safe Investment</td>\n",
       "      <td>Fixed Returns</td>\n",
       "      <td>Newspapers and Magazines</td>\n",
       "    </tr>\n",
       "    <tr>\n",
       "      <th>1</th>\n",
       "      <td>Female</td>\n",
       "      <td>23</td>\n",
       "      <td>Yes</td>\n",
       "      <td>4</td>\n",
       "      <td>3</td>\n",
       "      <td>2</td>\n",
       "      <td>1</td>\n",
       "      <td>5</td>\n",
       "      <td>6</td>\n",
       "      <td>7</td>\n",
       "      <td>...</td>\n",
       "      <td>More than 5 years</td>\n",
       "      <td>Weekly</td>\n",
       "      <td>20%-30%</td>\n",
       "      <td>Mutual Fund</td>\n",
       "      <td>Health Care</td>\n",
       "      <td>Dividend</td>\n",
       "      <td>Better Returns</td>\n",
       "      <td>Safe Investment</td>\n",
       "      <td>High Interest Rates</td>\n",
       "      <td>Financial Consultants</td>\n",
       "    </tr>\n",
       "    <tr>\n",
       "      <th>2</th>\n",
       "      <td>Male</td>\n",
       "      <td>30</td>\n",
       "      <td>Yes</td>\n",
       "      <td>3</td>\n",
       "      <td>6</td>\n",
       "      <td>4</td>\n",
       "      <td>2</td>\n",
       "      <td>5</td>\n",
       "      <td>1</td>\n",
       "      <td>7</td>\n",
       "      <td>...</td>\n",
       "      <td>3-5 years</td>\n",
       "      <td>Daily</td>\n",
       "      <td>20%-30%</td>\n",
       "      <td>Equity</td>\n",
       "      <td>Retirement Plan</td>\n",
       "      <td>Capital Appreciation</td>\n",
       "      <td>Tax Benefits</td>\n",
       "      <td>Assured Returns</td>\n",
       "      <td>Fixed Returns</td>\n",
       "      <td>Television</td>\n",
       "    </tr>\n",
       "    <tr>\n",
       "      <th>3</th>\n",
       "      <td>Male</td>\n",
       "      <td>22</td>\n",
       "      <td>Yes</td>\n",
       "      <td>2</td>\n",
       "      <td>1</td>\n",
       "      <td>3</td>\n",
       "      <td>7</td>\n",
       "      <td>6</td>\n",
       "      <td>4</td>\n",
       "      <td>5</td>\n",
       "      <td>...</td>\n",
       "      <td>Less than 1 year</td>\n",
       "      <td>Daily</td>\n",
       "      <td>10%-20%</td>\n",
       "      <td>Equity</td>\n",
       "      <td>Retirement Plan</td>\n",
       "      <td>Dividend</td>\n",
       "      <td>Fund Diversification</td>\n",
       "      <td>Tax Incentives</td>\n",
       "      <td>High Interest Rates</td>\n",
       "      <td>Internet</td>\n",
       "    </tr>\n",
       "    <tr>\n",
       "      <th>4</th>\n",
       "      <td>Female</td>\n",
       "      <td>24</td>\n",
       "      <td>No</td>\n",
       "      <td>2</td>\n",
       "      <td>1</td>\n",
       "      <td>3</td>\n",
       "      <td>6</td>\n",
       "      <td>4</td>\n",
       "      <td>5</td>\n",
       "      <td>7</td>\n",
       "      <td>...</td>\n",
       "      <td>Less than 1 year</td>\n",
       "      <td>Daily</td>\n",
       "      <td>20%-30%</td>\n",
       "      <td>Equity</td>\n",
       "      <td>Retirement Plan</td>\n",
       "      <td>Capital Appreciation</td>\n",
       "      <td>Better Returns</td>\n",
       "      <td>Safe Investment</td>\n",
       "      <td>Risk Free</td>\n",
       "      <td>Internet</td>\n",
       "    </tr>\n",
       "  </tbody>\n",
       "</table>\n",
       "<p>5 rows × 24 columns</p>\n",
       "</div>"
      ],
      "text/plain": [
       "   gender  age Investment_Avenues  Mutual_Funds  Equity_Market  Debentures  \\\n",
       "0  Female   34                Yes             1              2           5   \n",
       "1  Female   23                Yes             4              3           2   \n",
       "2    Male   30                Yes             3              6           4   \n",
       "3    Male   22                Yes             2              1           3   \n",
       "4  Female   24                 No             2              1           3   \n",
       "\n",
       "   Government_Bonds  Fixed_Deposits  PPF  Gold  ...           Duration  \\\n",
       "0                 3               7    6     4  ...          1-3 years   \n",
       "1                 1               5    6     7  ...  More than 5 years   \n",
       "2                 2               5    1     7  ...          3-5 years   \n",
       "3                 7               6    4     5  ...   Less than 1 year   \n",
       "4                 6               4    5     7  ...   Less than 1 year   \n",
       "\n",
       "  Invest_Monitor   Expect       Avenue What are your savings objectives?  \\\n",
       "0        Monthly  20%-30%  Mutual Fund                   Retirement Plan   \n",
       "1         Weekly  20%-30%  Mutual Fund                       Health Care   \n",
       "2          Daily  20%-30%       Equity                   Retirement Plan   \n",
       "3          Daily  10%-20%       Equity                   Retirement Plan   \n",
       "4          Daily  20%-30%       Equity                   Retirement Plan   \n",
       "\n",
       "          Reason_Equity         Reason_Mutual     Reason_Bonds  \\\n",
       "0  Capital Appreciation        Better Returns  Safe Investment   \n",
       "1              Dividend        Better Returns  Safe Investment   \n",
       "2  Capital Appreciation          Tax Benefits  Assured Returns   \n",
       "3              Dividend  Fund Diversification   Tax Incentives   \n",
       "4  Capital Appreciation        Better Returns  Safe Investment   \n",
       "\n",
       "             Reason_FD                    Source  \n",
       "0        Fixed Returns  Newspapers and Magazines  \n",
       "1  High Interest Rates     Financial Consultants  \n",
       "2        Fixed Returns                Television  \n",
       "3  High Interest Rates                  Internet  \n",
       "4            Risk Free                  Internet  \n",
       "\n",
       "[5 rows x 24 columns]"
      ]
     },
     "execution_count": 22,
     "metadata": {},
     "output_type": "execute_result"
    }
   ],
   "source": [
    "data.head()"
   ]
  },
  {
   "cell_type": "code",
   "execution_count": 23,
   "id": "16d16438-13da-40cf-83ed-f91637b37c9c",
   "metadata": {},
   "outputs": [
    {
     "name": "stdout",
     "output_type": "stream",
     "text": [
      "<class 'pandas.core.frame.DataFrame'>\n",
      "RangeIndex: 40 entries, 0 to 39\n",
      "Data columns (total 24 columns):\n",
      " #   Column                             Non-Null Count  Dtype \n",
      "---  ------                             --------------  ----- \n",
      " 0   gender                             40 non-null     object\n",
      " 1   age                                40 non-null     int64 \n",
      " 2   Investment_Avenues                 40 non-null     object\n",
      " 3   Mutual_Funds                       40 non-null     int64 \n",
      " 4   Equity_Market                      40 non-null     int64 \n",
      " 5   Debentures                         40 non-null     int64 \n",
      " 6   Government_Bonds                   40 non-null     int64 \n",
      " 7   Fixed_Deposits                     40 non-null     int64 \n",
      " 8   PPF                                40 non-null     int64 \n",
      " 9   Gold                               40 non-null     int64 \n",
      " 10  Stock_Marktet                      40 non-null     object\n",
      " 11  Factor                             40 non-null     object\n",
      " 12  Objective                          40 non-null     object\n",
      " 13  Purpose                            40 non-null     object\n",
      " 14  Duration                           40 non-null     object\n",
      " 15  Invest_Monitor                     40 non-null     object\n",
      " 16  Expect                             40 non-null     object\n",
      " 17  Avenue                             40 non-null     object\n",
      " 18  What are your savings objectives?  40 non-null     object\n",
      " 19  Reason_Equity                      40 non-null     object\n",
      " 20  Reason_Mutual                      40 non-null     object\n",
      " 21  Reason_Bonds                       40 non-null     object\n",
      " 22  Reason_FD                          40 non-null     object\n",
      " 23  Source                             40 non-null     object\n",
      "dtypes: int64(8), object(16)\n",
      "memory usage: 7.6+ KB\n"
     ]
    }
   ],
   "source": [
    "data.info()"
   ]
  },
  {
   "cell_type": "code",
   "execution_count": 25,
   "id": "3313509b-c40f-407e-bd1f-ce1dd8d446c9",
   "metadata": {},
   "outputs": [
    {
     "data": {
      "text/html": [
       "<div>\n",
       "<style scoped>\n",
       "    .dataframe tbody tr th:only-of-type {\n",
       "        vertical-align: middle;\n",
       "    }\n",
       "\n",
       "    .dataframe tbody tr th {\n",
       "        vertical-align: top;\n",
       "    }\n",
       "\n",
       "    .dataframe thead th {\n",
       "        text-align: right;\n",
       "    }\n",
       "</style>\n",
       "<table border=\"1\" class=\"dataframe\">\n",
       "  <thead>\n",
       "    <tr style=\"text-align: right;\">\n",
       "      <th></th>\n",
       "      <th>age</th>\n",
       "      <th>Mutual_Funds</th>\n",
       "      <th>Equity_Market</th>\n",
       "      <th>Debentures</th>\n",
       "      <th>Government_Bonds</th>\n",
       "      <th>Fixed_Deposits</th>\n",
       "      <th>PPF</th>\n",
       "      <th>Gold</th>\n",
       "    </tr>\n",
       "  </thead>\n",
       "  <tbody>\n",
       "    <tr>\n",
       "      <th>count</th>\n",
       "      <td>40.000000</td>\n",
       "      <td>40.000000</td>\n",
       "      <td>40.000000</td>\n",
       "      <td>40.000000</td>\n",
       "      <td>40.000000</td>\n",
       "      <td>40.000000</td>\n",
       "      <td>40.000000</td>\n",
       "      <td>40.000000</td>\n",
       "    </tr>\n",
       "    <tr>\n",
       "      <th>mean</th>\n",
       "      <td>27.800000</td>\n",
       "      <td>2.550000</td>\n",
       "      <td>3.475000</td>\n",
       "      <td>5.750000</td>\n",
       "      <td>4.650000</td>\n",
       "      <td>3.575000</td>\n",
       "      <td>2.025000</td>\n",
       "      <td>5.975000</td>\n",
       "    </tr>\n",
       "    <tr>\n",
       "      <th>std</th>\n",
       "      <td>3.560467</td>\n",
       "      <td>1.197219</td>\n",
       "      <td>1.131994</td>\n",
       "      <td>1.675617</td>\n",
       "      <td>1.369072</td>\n",
       "      <td>1.795828</td>\n",
       "      <td>1.609069</td>\n",
       "      <td>1.143263</td>\n",
       "    </tr>\n",
       "    <tr>\n",
       "      <th>min</th>\n",
       "      <td>21.000000</td>\n",
       "      <td>1.000000</td>\n",
       "      <td>1.000000</td>\n",
       "      <td>1.000000</td>\n",
       "      <td>1.000000</td>\n",
       "      <td>1.000000</td>\n",
       "      <td>1.000000</td>\n",
       "      <td>2.000000</td>\n",
       "    </tr>\n",
       "    <tr>\n",
       "      <th>25%</th>\n",
       "      <td>25.750000</td>\n",
       "      <td>2.000000</td>\n",
       "      <td>3.000000</td>\n",
       "      <td>5.000000</td>\n",
       "      <td>4.000000</td>\n",
       "      <td>2.750000</td>\n",
       "      <td>1.000000</td>\n",
       "      <td>6.000000</td>\n",
       "    </tr>\n",
       "    <tr>\n",
       "      <th>50%</th>\n",
       "      <td>27.000000</td>\n",
       "      <td>2.000000</td>\n",
       "      <td>4.000000</td>\n",
       "      <td>6.500000</td>\n",
       "      <td>5.000000</td>\n",
       "      <td>3.500000</td>\n",
       "      <td>1.000000</td>\n",
       "      <td>6.000000</td>\n",
       "    </tr>\n",
       "    <tr>\n",
       "      <th>75%</th>\n",
       "      <td>30.000000</td>\n",
       "      <td>3.000000</td>\n",
       "      <td>4.000000</td>\n",
       "      <td>7.000000</td>\n",
       "      <td>5.000000</td>\n",
       "      <td>5.000000</td>\n",
       "      <td>2.250000</td>\n",
       "      <td>7.000000</td>\n",
       "    </tr>\n",
       "    <tr>\n",
       "      <th>max</th>\n",
       "      <td>35.000000</td>\n",
       "      <td>7.000000</td>\n",
       "      <td>6.000000</td>\n",
       "      <td>7.000000</td>\n",
       "      <td>7.000000</td>\n",
       "      <td>7.000000</td>\n",
       "      <td>6.000000</td>\n",
       "      <td>7.000000</td>\n",
       "    </tr>\n",
       "  </tbody>\n",
       "</table>\n",
       "</div>"
      ],
      "text/plain": [
       "             age  Mutual_Funds  Equity_Market  Debentures  Government_Bonds  \\\n",
       "count  40.000000     40.000000      40.000000   40.000000         40.000000   \n",
       "mean   27.800000      2.550000       3.475000    5.750000          4.650000   \n",
       "std     3.560467      1.197219       1.131994    1.675617          1.369072   \n",
       "min    21.000000      1.000000       1.000000    1.000000          1.000000   \n",
       "25%    25.750000      2.000000       3.000000    5.000000          4.000000   \n",
       "50%    27.000000      2.000000       4.000000    6.500000          5.000000   \n",
       "75%    30.000000      3.000000       4.000000    7.000000          5.000000   \n",
       "max    35.000000      7.000000       6.000000    7.000000          7.000000   \n",
       "\n",
       "       Fixed_Deposits        PPF       Gold  \n",
       "count       40.000000  40.000000  40.000000  \n",
       "mean         3.575000   2.025000   5.975000  \n",
       "std          1.795828   1.609069   1.143263  \n",
       "min          1.000000   1.000000   2.000000  \n",
       "25%          2.750000   1.000000   6.000000  \n",
       "50%          3.500000   1.000000   6.000000  \n",
       "75%          5.000000   2.250000   7.000000  \n",
       "max          7.000000   6.000000   7.000000  "
      ]
     },
     "execution_count": 25,
     "metadata": {},
     "output_type": "execute_result"
    }
   ],
   "source": [
    "data.describe()"
   ]
  },
  {
   "cell_type": "markdown",
   "id": "aef0dc78-eba0-4f0b-91b5-886a31aa625b",
   "metadata": {},
   "source": [
    "# Task 2"
   ]
  },
  {
   "cell_type": "markdown",
   "id": "8ac732f9-eacf-4353-9eda-72e2fb02172e",
   "metadata": {},
   "source": [
    "Extract Gender Information: Identify and extract the gender column from the dataset."
   ]
  },
  {
   "cell_type": "code",
   "execution_count": 29,
   "id": "c68c0b29-25b1-4e5b-aefd-86809f3b752c",
   "metadata": {},
   "outputs": [],
   "source": [
    "#extract gender column\n",
    "gender=data[\"gender\"]"
   ]
  },
  {
   "cell_type": "code",
   "execution_count": 32,
   "id": "bb0c1b1a-a288-4da4-912b-f216755fb0fe",
   "metadata": {},
   "outputs": [
    {
     "data": {
      "text/plain": [
       "gender\n",
       "Male      25\n",
       "Female    15\n",
       "Name: count, dtype: int64"
      ]
     },
     "execution_count": 32,
     "metadata": {},
     "output_type": "execute_result"
    }
   ],
   "source": [
    "genderCount=gender.value_counts()\n",
    "genderCount"
   ]
  },
  {
   "cell_type": "code",
   "execution_count": 41,
   "id": "76dbd7eb-a7a0-4bda-9676-8185fd5344bb",
   "metadata": {},
   "outputs": [
    {
     "data": {
      "image/png": "[encoded data removed]",
      "text/plain": [
       "<Figure size 600x400 with 1 Axes>"
      ]
     },
     "metadata": {},
     "output_type": "display_data"
    }
   ],
   "source": [
    "#ccreate a bar chart\n",
    "plt.figure(figsize=(6,4))\n",
    "genderCount.plot(kind=\"bar\")\n",
    "plt.title(\"Gender Distribution\")\n",
    "plt.xlabel(\"Gender\")\n",
    "plt.ylabel(\"count\");"
   ]
  },
  {
   "cell_type": "markdown",
   "id": "d744b7dd-d8af-4798-ad9b-f238105276bd",
   "metadata": {},
   "source": [
    "# Task 3\n",
    "Objective: Present basic statistics for numerical columns."
   ]
  },
  {
   "cell_type": "markdown",
   "id": "1d221b51-cc5e-4c8f-b0bf-c9b87249a4dd",
   "metadata": {},
   "source": [
    "Identify Numerical Columns: Review the dataset to identify columns containing numerical data (e.g., age, income)."
   ]
  },
  {
   "cell_type": "code",
   "execution_count": 44,
   "id": "307b0691-9b51-4f5b-9074-dee54c92f32a",
   "metadata": {},
   "outputs": [
    {
     "data": {
      "text/plain": [
       "Index(['age', 'Mutual_Funds', 'Equity_Market', 'Debentures',\n",
       "       'Government_Bonds', 'Fixed_Deposits', 'PPF', 'Gold'],\n",
       "      dtype='object')"
      ]
     },
     "execution_count": 44,
     "metadata": {},
     "output_type": "execute_result"
    }
   ],
   "source": [
    "numericalColumns=data.select_dtypes(include=[\"int64\",\"float64\"]).columns\n",
    "numericalColumns"
   ]
  },
  {
   "cell_type": "code",
   "execution_count": 49,
   "id": "1d905eb9-d9ba-4ac8-89a1-a21ed53a5afb",
   "metadata": {},
   "outputs": [
    {
     "name": "stdout",
     "output_type": "stream",
     "text": [
      "age\n",
      "Mutual_Funds\n",
      "Equity_Market\n",
      "Debentures\n",
      "Government_Bonds\n",
      "Fixed_Deposits\n",
      "PPF\n",
      "Gold\n"
     ]
    }
   ],
   "source": [
    "for x in numericalColumns:\n",
    "    print( x)"
   ]
  },
  {
   "cell_type": "markdown",
   "id": "34e86006-1f1a-471c-b9ee-3f44cb6dce89",
   "metadata": {},
   "source": [
    "Use statistical functions (e.g., mean(), median(), std()) to calculate the mean, median, and standard deviation for each numerical column."
   ]
  },
  {
   "cell_type": "code",
   "execution_count": 53,
   "id": "49a8bea9-204c-4238-beb6-6564edae0c30",
   "metadata": {},
   "outputs": [],
   "source": [
    "statistic={\n",
    "    \"mean\":data[numericalColumns].mean(),\n",
    "    \"median\":data[numericalColumns].median(),\n",
    "    \"standard deviation\":data[numericalColumns].std(),\n",
    "}"
   ]
  },
  {
   "cell_type": "code",
   "execution_count": 56,
   "id": "1f27f4ba-cab5-4316-a35c-88238f183e44",
   "metadata": {},
   "outputs": [
    {
     "name": "stdout",
     "output_type": "stream",
     "text": [
      "                    mean  median  standard deviation\n",
      "age               27.800    27.0            3.560467\n",
      "Mutual_Funds       2.550     2.0            1.197219\n",
      "Equity_Market      3.475     4.0            1.131994\n",
      "Debentures         5.750     6.5            1.675617\n",
      "Government_Bonds   4.650     5.0            1.369072\n",
      "Fixed_Deposits     3.575     3.5            1.795828\n",
      "PPF                2.025     1.0            1.609069\n",
      "Gold               5.975     6.0            1.143263\n"
     ]
    }
   ],
   "source": [
    "#changing it to dataframe\n",
    "stat_df=pd.DataFrame(statistic)\n",
    "print(stat_df)"
   ]
  },
  {
   "cell_type": "markdown",
   "id": "5f4275db-1c0c-44b6-b42c-0ab94c1c0fc3",
   "metadata": {},
   "source": [
    "# Task 4\n",
    "Most Preferred Investment Avenue"
   ]
  },
  {
   "cell_type": "code",
   "execution_count": 59,
   "id": "3f270771-0871-4477-97c4-8f1817cbf1f2",
   "metadata": {},
   "outputs": [
    {
     "data": {
      "text/plain": [
       "Investment_Avenues\n",
       "Yes    37\n",
       "No      3\n",
       "Name: count, dtype: int64"
      ]
     },
     "execution_count": 59,
     "metadata": {},
     "output_type": "execute_result"
    }
   ],
   "source": [
    "countInvestmentAvenue=data[\"Investment_Avenues\"].value_counts()\n",
    "countInvestmentAvenue"
   ]
  },
  {
   "cell_type": "code",
   "execution_count": null,
   "id": "ac5595bf-d5b7-4044-bf42-a0a73b418efa",
   "metadata": {},
   "outputs": [],
   "source": []
  }
 ],
 "metadata": {
  "kernelspec": {
   "display_name": "Python 3 (ipykernel)",
   "language": "python",
   "name": "python3"
  },
  "language_info": {
   "codemirror_mode": {
    "name": "ipython",
    "version": 3
   },
   "file_extension": ".py",
   "mimetype": "text/x-python",
   "name": "python",
   "nbconvert_exporter": "python",
   "pygments_lexer": "ipython3",
   "version": "3.12.7"
  }
 },
 "nbformat": 4,
 "nbformat_minor": 5
}
